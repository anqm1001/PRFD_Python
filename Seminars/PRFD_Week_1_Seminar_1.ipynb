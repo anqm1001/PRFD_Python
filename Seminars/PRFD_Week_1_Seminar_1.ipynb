{
 "cells": [
  {
   "cell_type": "markdown",
   "id": "complicated-entrance",
   "metadata": {},
   "source": [
    "# Pattern Recognition in Financial Data\n",
    "\n",
    "## Author: Adamantios Ntakaris\n",
    "\n",
    "### Week 1 - Seminar 1\n",
    "\n",
    "##### Business School - University of Edinburgh \n",
    "\n",
    "\n",
    "\n"
   ]
  },
  {
   "cell_type": "code",
   "execution_count": null,
   "id": "legislative-radical",
   "metadata": {},
   "outputs": [],
   "source": [
    "# Install hdf5 library by interacting with the interpreter \n",
    "import sys\n",
    "!{sys.executable} -m pip install hdf5storage\n",
    "!{sys.executable} -m pip install tensorflow\n",
    "\n",
    "# Import Libraries \n",
    "import hdf5storage\n",
    "import pandas as pd\n",
    "import keras\n",
    "import tensorflow as tf"
   ]
  },
  {
   "cell_type": "markdown",
   "id": "medieval-origin",
   "metadata": {},
   "source": [
    "# 1. Read data"
   ]
  },
  {
   "cell_type": "code",
   "execution_count": null,
   "id": "unlike-multiple",
   "metadata": {},
   "outputs": [],
   "source": [
    "LOB_input = hdf5storage.loadmat('S092215-v50-AMZN_OCT2_states.mat')\n",
    "LOB_Amazon = pd.DataFrame.from_dict(LOB_input['LOB'])"
   ]
  },
  {
   "cell_type": "code",
   "execution_count": null,
   "id": "final-heart",
   "metadata": {},
   "outputs": [],
   "source": [
    "# This is a problematic representation of the data. Why?\n",
    "LOB_Amazon.head()"
   ]
  },
  {
   "cell_type": "code",
   "execution_count": null,
   "id": "elegant-hammer",
   "metadata": {},
   "outputs": [],
   "source": [
    "# Add Column Titles\n",
    "LOB_Amazon.columns = [\n",
    "                      \"Time\", \"Mid_Price\", \"Spread\", \n",
    "                      \"AskPrice1\", \"AskVolume1\",\"BidPrice1\", \"BidVolume1\", # Level 1\n",
    "                      \"AskPrice2\", \"AskVolume2\",\"BidPrice2\", \"BidVolume2\", # Level 2\n",
    "                      \"AskPrice3\", \"AskVolume3\",\"BidPrice3\", \"BidVolume3\", # Level 3\n",
    "                      \"AskPrice4\", \"AskVolume4\",\"BidPrice4\", \"BidVolume4\", # Level 4\n",
    "                      \"AskPrice5\", \"AskVolume5\",\"BidPrice5\", \"BidVolume5\", # Level 5\n",
    "                      \"AskPrice6\", \"AskVolume6\",\"BidPrice6\", \"BidVolume6\", # Level 6\n",
    "                      \"AskPrice7\", \"AskVolume7\",\"BidPrice7\", \"BidVolume7\", # Level 7\n",
    "                      \"AskPrice8\", \"AskVolume8\",\"BidPrice8\", \"BidVolume8\", # Level 8\n",
    "                      \"AskPrice9\", \"AskVolume9\",\"BidPrice9\", \"BidVolume9\", # Level 9\n",
    "                      \"AskPrice10\", \"AskVolume10\",\"BidPrice10\", \"BidVolume10\", # Level 10\n",
    "                     ]"
   ]
  },
  {
   "cell_type": "code",
   "execution_count": null,
   "id": "normal-postcard",
   "metadata": {},
   "outputs": [],
   "source": [
    "# Much better Now?\n",
    "LOB_Amazon.head()"
   ]
  },
  {
   "cell_type": "markdown",
   "id": "martial-dinner",
   "metadata": {},
   "source": [
    "# 2. Convert epoch time to readable format"
   ]
  },
  {
   "cell_type": "code",
   "execution_count": null,
   "id": "attractive-storm",
   "metadata": {},
   "outputs": [],
   "source": [
    "# Conversion module\n",
    "import datetime\n",
    "    \n",
    "# Version 1.0\n",
    "new_time_column = []\n",
    "for item in LOB_Amazon[\"Time\"]:\n",
    "    current_row = datetime.datetime.fromtimestamp(item/1000.0) #1000.0 since 1 sec = 1000 mls\n",
    "    new_time_column.append(current_row)\n",
    "\n",
    "# Version 2.0\n",
    "readable_time = []\n",
    "for i in range(0,len(new_time_column)):\n",
    "    current_time = new_time_column[i].strftime(\"%H:%M:%f\")\n",
    "    readable_time.append(current_time)   "
   ]
  },
  {
   "cell_type": "code",
   "execution_count": null,
   "id": "integrated-admission",
   "metadata": {},
   "outputs": [],
   "source": [
    "# Replace Unix time with the Readable Time Format (=Version 2.0)\n",
    "LOB_Amazon['Time'] = readable_time "
   ]
  },
  {
   "cell_type": "code",
   "execution_count": null,
   "id": "mature-documentary",
   "metadata": {},
   "outputs": [],
   "source": [
    "# How it looks now?\n",
    "LOB_Amazon.head(10)"
   ]
  },
  {
   "cell_type": "markdown",
   "id": "chronic-failure",
   "metadata": {},
   "source": [
    "# 3. Plot Time Series"
   ]
  },
  {
   "cell_type": "code",
   "execution_count": null,
   "id": "satisfactory-jesus",
   "metadata": {},
   "outputs": [],
   "source": [
    "#Plot Best Ask and Bid Prices\n",
    "import matplotlib.pyplot as plt\n",
    "\n",
    "LOB_Amazon_Sample = LOB_Amazon.iloc[86000:562500,] # Time-framing\n",
    "\n",
    "LOB_Amazon_Sample.plot(x=\"Time\", y=[\"AskPrice1\", \"BidPrice1\"],\n",
    "                       figsize=(18, 9), linewidth=1.0, fontsize=20)\n",
    "\n",
    "plt.legend(loc=1, prop={'size': 20})\n",
    "plt.rcParams.update({'font.size': 10})\n",
    "plt.ylabel('Amazon Stock Price',fontsize=30);"
   ]
  },
  {
   "cell_type": "code",
   "execution_count": null,
   "id": "ecological-jerusalem",
   "metadata": {},
   "outputs": [],
   "source": [
    "#Plot Mid-Price\n",
    "LOB_Amazon_Sample.plot(x=\"Time\", \n",
    "                       y=[\"Mid_Price\"], figsize=(18, 9), linewidth=2.0, \n",
    "                       color = {\"green\"}, \n",
    "                       fontsize=20\n",
    "                      )\n",
    "plt.legend(loc=1, prop={'size': 20})\n",
    "plt.rcParams.update({'font.size': 20})\n",
    "plt.ylabel('Mid Price',fontsize=30)\n",
    "plt.show()"
   ]
  },
  {
   "cell_type": "markdown",
   "id": "stuck-choice",
   "metadata": {},
   "source": [
    "# 4. Feature Engineering"
   ]
  },
  {
   "cell_type": "code",
   "execution_count": null,
   "id": "involved-british",
   "metadata": {},
   "outputs": [],
   "source": [
    "# Lagged Features\n",
    "LOB_Amazon['Ask_lag_1'] = LOB_Amazon['AskPrice1'].shift(1)\n",
    "LOB_Amazon['Bid_lag_1'] = LOB_Amazon['BidPrice1'].shift(1)"
   ]
  },
  {
   "cell_type": "code",
   "execution_count": null,
   "id": "ideal-bloom",
   "metadata": {},
   "outputs": [],
   "source": [
    "# Rolling Window\n",
    "LOB_Amazon['rolling_mean'] = LOB_Amazon['AskPrice1'].rolling(window=4).mean()"
   ]
  },
  {
   "cell_type": "code",
   "execution_count": null,
   "id": "hired-hotel",
   "metadata": {},
   "outputs": [],
   "source": [
    "LOB_Amazon.head()"
   ]
  },
  {
   "cell_type": "markdown",
   "id": "rational-access",
   "metadata": {},
   "source": [
    "# 5. Prepare Train & Test sets"
   ]
  },
  {
   "cell_type": "code",
   "execution_count": null,
   "id": "severe-penny",
   "metadata": {},
   "outputs": [],
   "source": [
    "# Identify the Columns that will be utilized as Inputs to the Regressors\n",
    "Feature_Matrix = LOB_Amazon_Sample.iloc[4:-1,3:] \n",
    "Mid_Price_Series = LOB_Amazon_Sample['Mid_Price'].iloc[4:]\n",
    "\n",
    "# Extarct Targets/Labels\n",
    "Forecasting_Variable = Mid_Price_Series\n",
    "\n",
    "print('Mid_Price_Series length:',len(Mid_Price_Series))\n",
    "print('Feature_Matrix length:', len(Feature_Matrix))\n",
    "\n",
    "# Why I did this iloc to Feature_Matrix & Mid_Price_Series?"
   ]
  },
  {
   "cell_type": "code",
   "execution_count": null,
   "id": "native-replica",
   "metadata": {},
   "outputs": [],
   "source": [
    "# Calculate Stock Returns for Label Preparation\n",
    "\n",
    "# Returns \n",
    "returns = (Mid_Price_Series/ Mid_Price_Series.shift(1)) - 1\n",
    "\n",
    "# Indexing (i.e., identify type fo diffrences)\n",
    "idx_pos = returns[returns >= 0].index\n",
    "idx_neg = returns[returns < 0].index\n",
    "\n",
    "# Based on Indexing convert/label returns\n",
    "returns.loc[idx_pos] = 1\n",
    "returns.loc[idx_neg] = -1\n",
    "\n",
    "# Remove NaN valeus\n",
    "returns.dropna(inplace=True)\n",
    "print(returns.shape)"
   ]
  },
  {
   "cell_type": "code",
   "execution_count": null,
   "id": "american-people",
   "metadata": {},
   "outputs": [],
   "source": [
    "# Time Series K-Fold Cross Validation\n",
    "from sklearn.model_selection import TimeSeriesSplit\n",
    "\n",
    "tscv = TimeSeriesSplit()\n",
    "print(tscv)\n",
    "print(62*'#')\n",
    "\n",
    "counter = 0\n",
    "for train_index, test_index in tscv.split(Feature_Matrix):\n",
    "    counter += 1\n",
    "    print('Fold %d:' %counter)\n",
    "    print(\"TRAIN:\", len(train_index), \"TEST:\", len(test_index))\n",
    "    \n",
    "    X_train, X_test = Feature_Matrix.iloc[train_index,:], Feature_Matrix.iloc[test_index,:]\n",
    "    y_tr, y_te = returns.iloc[train_index], returns.iloc[test_index]\n",
    "    print(62*'-')\n",
    "    \n",
    "    #---------------------------------------------------------------------------------------------#\n",
    "    #---------------------------------------- Classifiers ----------------------------------------#\n",
    "    #---------------------------------------------------------------------------------------------#\n",
    "\n",
    "    ## ----------------------------------------------------------------------------------------- ##\n",
    "    # 1. Naive Bayes - Gaussian \n",
    "    from sklearn.naive_bayes import GaussianNB\n",
    "    \n",
    "    gnb = GaussianNB()\n",
    "    \n",
    "    # Predicted Labels\n",
    "    y_pr_gnb = gnb.fit(X_train, y_tr).predict(X_test)\n",
    "    print('1. Naive Bayes: Gaussian Case')\n",
    "    print(\"Number of mislabeled points out of a total %d points : %d\" % (X_test.shape[0], (y_te != y_pr_gnb).sum()))\n",
    "    print(62*'-')\n",
    "    \n",
    "    ## ----------------------------------------------------------------------------------------- ##\n",
    "    # 2. Naive Bayes - Bernoulli \n",
    "    from sklearn.naive_bayes import BernoulliNB\n",
    "    \n",
    "    bnb = BernoulliNB()\n",
    "    \n",
    "    # Predicted Labels\n",
    "    y_pr_bnb = bnb.fit(X_train, y_tr).predict(X_test)\n",
    "    print('2. Naive Bayes: Bernoulli Case')\n",
    "    print(\"Number of mislabeled points out of a total %d points : %d\" % (X_test.shape[0], (y_te != y_pr_bnb).sum()))\n",
    "    print(62*'-')\n",
    "    \n",
    "    ## ----------------------------------------------------------------------------------------- ##\n",
    "    # 3. Support Vector Machines - SVM\n",
    "    import numpy as np\n",
    "    from sklearn.svm import SVC\n",
    "    \n",
    "    train_portion = np.int_(len(train_index)* 0.1)\n",
    "    test_portion = np.int_(len(test_index)* 0.1)\n",
    "    \n",
    "    # Consider a smaller dataset due to SVM convergence challenges (i.e., time limitations)\n",
    "    train_index = train_index[0:train_portion]\n",
    "    test_index = test_index[0:test_portion]\n",
    "    \n",
    "    X_train, X_test = Feature_Matrix.iloc[train_index,:], Feature_Matrix.iloc[test_index,:]\n",
    "    y_tr, y_te = returns.iloc[train_index], returns.iloc[test_index]\n",
    "    \n",
    "    svc = SVC(kernel='rbf')\n",
    "    \n",
    "    # Predicted Labels\n",
    "    y_pr_svc = svc.fit(X_train, y_tr).predict(X_test)\n",
    "    print('3. SVM: ')\n",
    "    print(\"TRAIN_subset:\", len(train_index), \"TEST_subset:\", len(test_index))\n",
    "    print(\"Number of mislabeled points out of a total %d points : %d\" % (X_test.shape[0], (y_te != y_pr_svc).sum()))\n",
    "    print('Full size data equivalent mislabeled points:', (y_te != y_pr_svc).sum() * 10) # Why 10?\n",
    "    print(62*'#')\n",
    "    print('')"
   ]
  },
  {
   "cell_type": "code",
   "execution_count": null,
   "id": "addressed-advertiser",
   "metadata": {},
   "outputs": [],
   "source": []
  }
 ],
 "metadata": {
  "kernelspec": {
   "display_name": "Python 3 (ipykernel)",
   "language": "python",
   "name": "python3"
  },
  "language_info": {
   "codemirror_mode": {
    "name": "ipython",
    "version": 3
   },
   "file_extension": ".py",
   "mimetype": "text/x-python",
   "name": "python",
   "nbconvert_exporter": "python",
   "pygments_lexer": "ipython3",
   "version": "3.9.2"
  }
 },
 "nbformat": 4,
 "nbformat_minor": 5
}
